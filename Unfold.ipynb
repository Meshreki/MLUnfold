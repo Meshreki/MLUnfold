{
 "cells": [
  {
   "cell_type": "markdown",
   "metadata": {},
   "source": [
    "Basic imports for the MLUnfolding example.  The code depends on scipy, numpy and keras"
   ]
  },
  {
   "cell_type": "code",
   "execution_count": null,
   "metadata": {},
   "outputs": [],
   "source": [
    "import matplotlib.pyplot as plt\n",
    "%matplotlib inline\n",
    "import scipy.integrate \n",
    "import numpy as np\n",
    "\n",
    "\n",
    "# KERAS imports:\n",
    "\n",
    "from __future__ import print_function\n",
    "import keras\n",
    "from keras.models import Sequential\n",
    "from keras.layers import Dense,Flatten\n",
    "from keras import backend as K"
   ]
  },
  {
   "cell_type": "markdown",
   "metadata": {},
   "source": [
    "\n",
    "Set basic parameters used for the followng examples\n"
   ]
  },
  {
   "cell_type": "code",
   "execution_count": null,
   "metadata": {},
   "outputs": [],
   "source": [
    "batch_size = 1000\n",
    "num_classes = 10\n",
    "NBins = num_classes\n",
    "epochs = 50\n",
    "smear = 0.5\n",
    "#\n",
    "# Define initial function:\n",
    "#\n",
    "fun = lambda x : 1"
   ]
  },
  {
   "cell_type": "markdown",
   "metadata": {},
   "source": [
    "A sample function used for testing. The function has a minimum at x = 0 and x ~ 0.6 which creates extra difficulties for unfolding due to smearing into these regions. "
   ]
  },
  {
   "cell_type": "code",
   "execution_count": null,
   "metadata": {},
   "outputs": [],
   "source": [
    "def ff(x):\n",
    "    ''' Define function for testing. '''\n",
    "    return np.sin(5*x)**2\n",
    "\n",
    "#\n",
    "# Plot the result\n",
    "#\n",
    "xi = np.linspace(0.,1.,100)\n",
    "plt.plot(xi,ff(xi))"
   ]
  },
  {
   "cell_type": "markdown",
   "metadata": {},
   "source": [
    "Simple event generator to produce test (pseudo-data) and training samples. The sampling is based on the input function given by parameter fun where fun can be constant (flat prior) or any other function. The input function\n",
    "is modified during the unfolding from iteration to iteration."
   ]
  },
  {
   "cell_type": "code",
   "execution_count": null,
   "metadata": {
    "collapsed": true
   },
   "outputs": [],
   "source": [
    "def gen(fun,N=200000,bins=10, xmin=0., xmax=1.0,smear=1., supersample=50, smear2=0.25, shift1=0., shift2=-0.5):\n",
    "    ''' Generate random events following function fun.\n",
    "        A samples of N events is generated.  Truth is distributed in number of bins 'bins'.\n",
    "        The function is varied between xmin and xmax which maped to bins between bin=0 and 'bins'.\n",
    "        The response for the first variable is modeled by a single gaussian with the width given by 'smear'\n",
    "        supersample parameter controls how many bins inside each truth-bin are sampled.\n",
    "        The second variable uses log-normal distribution with smearing parameter of \n",
    "        The return parameters are binned truth and smeared reconstructed events.\n",
    "    '''\n",
    "    \n",
    "    ifun = lambda x: scipy.integrate.quad(fun,0., x/xmax)[0]\n",
    "    vfun = np.vectorize(ifun)\n",
    "\n",
    "    NSample = bins*supersample  # finer sampling\n",
    "    vals = vfun(np.linspace(xmin, xmax, NSample+1))\n",
    "    probs = vals[1:]-vals[:-1]# want to param \n",
    "    probs = np.where(probs<0,0,probs)\n",
    "    probs = probs/np.sum(probs)\n",
    "    a = np.random.choice(NSample,N,p=probs)  # simulated events.\n",
    "    asim = np.trunc(a/supersample)                   # output simulated bins\n",
    "\n",
    "    # Reconstructed vars:\n",
    "    # apply additional gaussian smearing\n",
    "    g = np.random.normal(0.,smear,N) + shift1\n",
    "    n = np.random.lognormal(0.,0.25,N)\n",
    "    return asim,(a+(g)*supersample)/supersample,(a*n+shift2)/supersample"
   ]
  },
  {
   "cell_type": "markdown",
   "metadata": {},
   "source": [
    "\n",
    "Generate reference and two training samples  \n"
   ]
  },
  {
   "cell_type": "code",
   "execution_count": null,
   "metadata": {},
   "outputs": [],
   "source": [
    "smear = 0.5\n",
    "g,r,r2= gen(lambda x: ff(x),2000000,smear=smear)\n",
    "gt,rt,rt2 = gen(lambda x: ff(x),20000,smear=smear)\n",
    "gf,rf,rf2 = gen(lambda x: fun(x),2000000,smear=smear)"
   ]
  },
  {
   "cell_type": "markdown",
   "metadata": {},
   "source": [
    "Definition of the model using 3-layer neural network."
   ]
  },
  {
   "cell_type": "code",
   "execution_count": null,
   "metadata": {
    "collapsed": true
   },
   "outputs": [],
   "source": [
    "def prepareModel(nvar=1, NBins=NBins, kappa=8):\n",
    "    ''' Prepare KERAS-based sequential neural network with for ML unfolding. \n",
    "        Nvar defines number of inputvariables. NBins is number of truth bins. \n",
    "        kappa is an empirically tuned parameter for the intermediate layer'''\n",
    "    model = Sequential()\n",
    "    model.add(Dense(nvar,activation='linear',input_shape=(nvar,1)))\n",
    "    model.add(Flatten())\n",
    "    model.add(Dense(kappa*NBins**2,activation='relu'))\n",
    "    \n",
    "    # model.add(Dropout(0.25))\n",
    "    # model.add(Dense(2*NBins,activation='relu'))\n",
    "    # model.add(Dropout(0.5))\n",
    "    model.add(Dense(NBins,activation='softmax'))\n",
    "    model.compile(loss=keras.losses.categorical_crossentropy,\n",
    "              optimizer=keras.optimizers.Adadelta(),\n",
    "              metrics=['accuracy'])\n",
    "    return model"
   ]
  },
  {
   "cell_type": "markdown",
   "metadata": {},
   "source": [
    "\n",
    "Prepare the model with one input variable\n"
   ]
  },
  {
   "cell_type": "code",
   "execution_count": null,
   "metadata": {},
   "outputs": [],
   "source": [
    "model = prepareModel(1)"
   ]
  },
  {
   "cell_type": "markdown",
   "metadata": {},
   "source": [
    "\n",
    "Prepare inputs for keras\n"
   ]
  },
  {
   "cell_type": "code",
   "execution_count": null,
   "metadata": {
    "collapsed": true
   },
   "outputs": [],
   "source": [
    "gcat = keras.utils.to_categorical(g,NBins)\n",
    "gtcat = keras.utils.to_categorical(gt,NBins)\n",
    "gfcat = keras.utils.to_categorical(gf)\n",
    "\n",
    "r = r.reshape(r.shape[0],1,1)\n",
    "rt = rt.reshape(rt.shape[0],1,1)\n",
    "rf = rf.reshape(rf.shape[0],1,1)"
   ]
  },
  {
   "cell_type": "markdown",
   "metadata": {},
   "source": [
    "\n",
    "Fit the model\n"
   ]
  },
  {
   "cell_type": "code",
   "execution_count": null,
   "metadata": {},
   "outputs": [],
   "source": [
    "h = model.fit(rf,gfcat,batch_size=batch_size,epochs=epochs,verbose=1,validation_data=(rt,gtcat))"
   ]
  },
  {
   "cell_type": "code",
   "execution_count": null,
   "metadata": {
    "collapsed": true
   },
   "outputs": [],
   "source": [
    "# save model,if needed\n",
    "model.save(\"model.hdf5\")\n"
   ]
  },
  {
   "cell_type": "markdown",
   "metadata": {},
   "source": [
    "Prepare bootstrap replica to determine statistical uncertainties."
   ]
  },
  {
   "cell_type": "code",
   "execution_count": null,
   "metadata": {
    "collapsed": true
   },
   "outputs": [],
   "source": [
    "def prepareBootstrap(rt,N=10):\n",
    "    ''' Prepare bootstrap weights, for error statistical and correlation estimation '''\n",
    "    Nev = rt.shape[0]\n",
    "    p = np.random.poisson(size=(Nev,N))\n",
    "    return p"
   ]
  },
  {
   "cell_type": "markdown",
   "metadata": {},
   "source": [
    "\n",
    "Unfold the reference sample, prepare bootstrap replica of the result to estimate stat. uncertainties.\n"
   ]
  },
  {
   "cell_type": "code",
   "execution_count": null,
   "metadata": {},
   "outputs": [],
   "source": [
    "rt = rt.reshape(rt.shape[0],1,1)\n",
    "out = model.predict(rt)\n",
    "\n",
    "\n",
    "# get bootstrap errors:\n",
    "bs = prepareBootstrap(out)\n",
    "out2 = out[:,np.newaxis,:]*bs[:,:,np.newaxis]\n",
    "\n",
    "ouproj = np.sum(out,axis=0)      # projected \n",
    "oustd  = np.std(np.sum(out2,axis=0),axis=0)\n",
    "geproj = np.sum(gtcat,axis=0)"
   ]
  },
  {
   "cell_type": "markdown",
   "metadata": {},
   "source": [
    "The following cell defines a set of functions to parameterise the unfolded results with cubic splines\n",
    "The integral of the spline for each bin is required to be equal to the number of unfolded events in the bin"
   ]
  },
  {
   "cell_type": "code",
   "execution_count": null,
   "metadata": {},
   "outputs": [],
   "source": [
    "#\n",
    "# Interpolation using integrated in bin splines\n",
    "#\n",
    "from scipy import optimize\n",
    "from scipy import interpolate\n",
    "\n",
    "#\n",
    "# Some global parameters, needed for the spline interpolation:\n",
    "#\n",
    "xvals2 = np.zeros(12)\n",
    "binb  = np.linspace(0.,10.,11)\n",
    "afi = np.zeros(12)\n",
    "\n",
    "def param(x):\n",
    "    ''' Spline parameterisation'''\n",
    "    tck,u = interpolate.splprep([x],u=xvals2)\n",
    "    return tck\n",
    "\n",
    "def funpar(x,tck):\n",
    "    return interpolate.splev(x,tck)[0]\n",
    "\n",
    "def funcfit(x):\n",
    "    ''' Compare integral of the spline to the values given in bins. Uses global binb, xvals2, afi arrays '''\n",
    "    tck,u = interpolate.splprep([x],u=xvals2)\n",
    "    y = np.zeros(12)\n",
    "    for i in range(10):\n",
    "        y[i+1] = interpolate.splint(binb[i],binb[i+1],tck)[0]\n",
    "#        y[i] = interpolate.splev(xvals[i],tck)[0]\n",
    "    return afi-y\n",
    "\n",
    "def getparam(vals):\n",
    "    ''' Determine spline parameters such that integral for each bin equal to vals '''\n",
    "    xvals = np.linspace(0.5,9.5,10)\n",
    "    \n",
    "#    afi = zeros(12)\n",
    "#    xvals2 = zeros(12)\n",
    "    afi[1:-1] = vals\n",
    "    afi[-1] = vals[-1]\n",
    "    xvals2[1:-1] = xvals\n",
    "    xvals2[-1] = 10.\n",
    "    u = optimize.least_squares(funcfit,afi) # ,args=(xvals2))\n",
    "    tck = param(u.x)\n",
    "    return tck"
   ]
  },
  {
   "cell_type": "markdown",
   "metadata": {},
   "source": [
    "\n",
    "More simple interpolation, splines drawn directly through unfolded cross sections.\n",
    " "
   ]
  },
  {
   "cell_type": "code",
   "execution_count": null,
   "metadata": {
    "collapsed": true
   },
   "outputs": [],
   "source": [
    "from scipy.interpolate import interp1d\n",
    "def GetInterpFuncReplica(unfRep):\n",
    "    ''' Get interpolation function for a given unfolded result '''\n",
    "    return interp1d(linspace(0.05,0.95,NBins),unfRep,fill_value='extrapolate',kind='cubic')"
   ]
  },
  {
   "cell_type": "markdown",
   "metadata": {},
   "source": [
    "\n",
    "Modify the sampling function fun, plot truth and unfolded results.\n"
   ]
  },
  {
   "cell_type": "code",
   "execution_count": null,
   "metadata": {},
   "outputs": [],
   "source": [
    "ou = np.sum(out,axis=0)\n",
    "\n",
    "# \n",
    "useIntSpl = True\n",
    "if useIntSpl:\n",
    "    tck = getparam(ou)\n",
    "    fun = lambda x : funpar(10*x,tck)\n",
    "else:\n",
    "    print (ou)\n",
    "    fun = GetInterpFuncReplica(ou)\n",
    "    \n",
    "plt.figure()\n",
    "plt.grid()\n",
    "\n",
    "x = np.linspace(0.05,0.95,10)\n",
    "plt.plot(x,fun(x),label='Next prior function')\n",
    "plt.plot(x,ou,label='Unfolded result')\n",
    "plt.plot(x,np.sum(gtcat,axis=0), label='Truth')\n",
    "plt.legend()"
   ]
  },
  {
   "cell_type": "markdown",
   "metadata": {},
   "source": [
    "\n",
    "\n",
    "Following cells define iterative procedure\n",
    "\n"
   ]
  },
  {
   "cell_type": "code",
   "execution_count": null,
   "metadata": {
    "collapsed": true
   },
   "outputs": [],
   "source": [
    "def ZeroIteration(nvar=2, NBs = 10):\n",
    "    ''' Start unfolding. Prepare test/flat prior sampes. NBs defines number of bootstrap replica used for \n",
    "        stat. errors '''\n",
    "    \n",
    "    # generate events:\n",
    "    g,r,r2= gen(lambda x: np.sin(5*x)**2,500000,smear=smear)\n",
    "    gt,rt,rt2 = gen(lambda x: np.sin(5*x)**2,20000,smear=smear)  # test \n",
    "    gf,rf,rf2 = gen(lambda x: 1,500000,smear=smear)           # flat prior\n",
    "\n",
    "    # prepare categorical representation:\n",
    "    gcat = keras.utils.to_categorical(g,NBins)\n",
    "    gtcat = keras.utils.to_categorical(gt,NBins)\n",
    "    gfcat = keras.utils.to_categorical(gf)\n",
    "    \n",
    "    # prepare input:\n",
    "    if nvar == 2:\n",
    "        r  = transpose(array([r.reshape(r.shape[0]),r2]))\n",
    "        rt = transpose(array([rt.reshape(rt.shape[0]),rt2]))\n",
    "        rf = transpose(array([rf.reshape(rf.shape[0]),rf2]))\n",
    "    r = r.reshape(r.shape[0],nvar,1)\n",
    "    rt = rt.reshape(rt.shape[0],nvar,1)\n",
    "    rf = rf.reshape(rf.shape[0],nvar,1)\n",
    "    \n",
    "    model = prepareModel(nvar)\n",
    "    # fit\n",
    "    model.fit(rf,gfcat,batch_size=batch_size,epochs=epochs,verbose=1,validation_data=(rt,gtcat))\n",
    "         \n",
    "    # prediction for test sample:\n",
    "    out = model.predict(rt)\n",
    "    \n",
    "    # add bootstrap replica for it:\n",
    "    bs = prepareBootstrap(out,NBs)\n",
    "    out2 = out[:,np.newaxis,:]*bs[:,:,np.newaxis]\n",
    "    return out2,rt,gtcat,r,gcat\n",
    "    "
   ]
  },
  {
   "cell_type": "code",
   "execution_count": null,
   "metadata": {
    "collapsed": true,
    "scrolled": true
   },
   "outputs": [],
   "source": [
    "def UnfoldingIteration(inpred,rt, gtcat, NBs=0, nvar=2, useIntSplines = True):\n",
    "    ''' Perform unfolding iteration, including running over bootstrap replica. \n",
    "        Returns updated predictions '''\n",
    "    pr = np.sum(inpred,axis=0)         # previous iteration results, for all Bs replica\n",
    "    if NBs == 0:\n",
    "        NBs = pr.shape[0]           # determine number of bootstrap replica automatically.\n",
    "        \n",
    "    out = np.zeros(inpred.shape)\n",
    "\n",
    "    for i in range(NBs):        \n",
    "        # two ways to get the function\n",
    "        if useIntSplines:\n",
    "            tck = getparam(pr[i])\n",
    "            fun = lambda x : funpar(10*x,tck)\n",
    "        else:\n",
    "            fun = GetInterpFuncReplica(pr[i])\n",
    "        gf,rf,rf2 = gen(lambda x: fun(x),500000,smear=smear)      # generate events  \n",
    "        gfcat = keras.utils.to_categorical(gf)\n",
    "        if nvar == 2:\n",
    "            rf = transpose(array([rf.reshape(rf.shape[0]),rf2]))\n",
    "        rf = rf.reshape(rf.shape[0],nvar,1)\n",
    "        \n",
    "        model = prepareModel(nvar)\n",
    "        model.fit(rf,gfcat,batch_size=batch_size,epochs=epochs,verbose=0,validation_data=(rt,gtcat))\n",
    "            \n",
    "        out[:,i,:] = model.predict(rt)\n",
    "\n",
    "    return out\n",
    "            \n",
    "# oo = UnfoldingIteration(out2,nvar=1)"
   ]
  },
  {
   "cell_type": "markdown",
   "metadata": {},
   "source": [
    "\n",
    "Sample unfolding sequence. \n"
   ]
  },
  {
   "cell_type": "code",
   "execution_count": null,
   "metadata": {},
   "outputs": [],
   "source": [
    "import os\n",
    "\n",
    "NBootStrap = 1\n",
    "NVar = 1\n",
    "\n",
    "out,rt,gtcat,r,gcat = ZeroIteration(NVar,NBootStrap)\n",
    "\n",
    "outDir = 'output'\n",
    "os.system(\"mkdir -p \"+outDir)\n",
    "rt.tofile(outDir+\"/rt.dat\",sep=\" \")\n",
    "gtcat.tofile(outDir+\"/gtcat.dat\",sep=\" \")\n",
    "out.tofile(outDir+\"/out0.dat\")\n",
    "\n",
    "for i in range(20):\n",
    "    print (\"Iteration\",i)\n",
    "    out = UnfoldingIteration(out,rt,gtcat, nvar=NVar)\n",
    "    out.tofile(outDir+\"/out\"+str(i+1)+\".dat\")"
   ]
  },
  {
   "cell_type": "markdown",
   "metadata": {},
   "source": [
    "\n",
    "Plot results of the unfolding \n"
   ]
  },
  {
   "cell_type": "code",
   "execution_count": null,
   "metadata": {},
   "outputs": [],
   "source": [
    "outDir = \"output/\"\n",
    "\n",
    "nit = 19\n",
    "c = np.zeros((nit,10))\n",
    "e = np.zeros((nit,10))\n",
    "\n",
    "gtcat = np.fromfile(outDir+\"gtcat.dat\",sep=\" \").reshape(20000,10)\n",
    "\n",
    "#.reshape(20000,10)\n",
    "#print (gcat[0:10])\n",
    "for i in range(nit):\n",
    "    out = np.fromfile(outDir+\"/out\"+str(i)+\".dat\").reshape(20000,1,10)\n",
    "    c[i,:] = np.mean(np.sum(out,axis=0),axis=0)\n",
    "    e[i,:] = np.std(np.sum(out,axis=0),axis=0)\n",
    "plt.figure(figsize=(14,5))\n",
    "#subplot(121)\n",
    "\n",
    "x = np.linspace(0.5,9.5,10)\n",
    "for i in range(0,19,2):\n",
    "    plt.errorbar(x,c[i],e[i],label=str(i)+'iteration')\n",
    "plt.plot(x,np.sum(gtcat,axis=0),label='truth')\n",
    "\n",
    "plt.legend()"
   ]
  },
  {
   "cell_type": "markdown",
   "metadata": {},
   "source": [
    "Ratio plot"
   ]
  },
  {
   "cell_type": "code",
   "execution_count": null,
   "metadata": {},
   "outputs": [],
   "source": [
    "plt.figure(figsize=(14,5))\n",
    "plt.subplot(121)\n",
    "plt.grid()\n",
    "x = np.linspace(0.5,9.5,10)\n",
    "plt.ylim(0.8,2.4)\n",
    "for i in range(0,15,2):\n",
    "    plt.errorbar(x,c[i]/np.sum(gtcat,axis=0),e[i]/np.sum(gtcat,axis=0),label='Iter. {:d}'.format(i))\n",
    "plt.xlabel(\"Bin number\",size=15)\n",
    "plt.ylabel(\"Unfolded/Generated\",size=15)\n",
    "plt.legend()\n",
    "plt.subplot(122)\n",
    "plt.grid()\n",
    "\n",
    "plt.ylim(0.8,1.2)\n",
    "for i in range(10,19,1):\n",
    "    plt.errorbar(x,c[i]/np.sum(gtcat,axis=0),e[i]/np.sum(gtcat,axis=0),label='Iter. {:d}'.format(i))\n",
    "#errorbar(x,c[0]/sum(gtcat,axis=0),e[0]/sum(gtcat,axis=0),label='zero')\n",
    "plt.legend(ncol=4)\n",
    "plt.xlabel(\"Bin number\",size=15)\n",
    "plt.ylabel(\"Unfolded/Generated\",size=15)\n",
    "plt.savefig(\"convergence.pdf\")"
   ]
  },
  {
   "cell_type": "markdown",
   "metadata": {},
   "source": [
    "\n",
    "Extra functions to calculate  conventional transfer matrix \n",
    "\n"
   ]
  },
  {
   "cell_type": "code",
   "execution_count": null,
   "metadata": {},
   "outputs": [],
   "source": [
    "def transferM(g,r):\n",
    "    ''' Compute transfer matrx, for standard unfolding approaches '''\n",
    "    tr = np.dot(np.transpose(r),g)/np.sum(g,axis=0)\n",
    "    return tr\n",
    "\n",
    "# \n",
    "# Prepare reco which is within 0-Nbins boundaries, get transfer / and inverted transfer matrix\n",
    "# \n",
    "re1 = np.where(r>0, r,0 )\n",
    "re2 = np.where(r>NBins-1,NBins-1,re1)\n",
    "rcat = keras.utils.to_categorical(re2,NBins)\n",
    "tr = transferM(gcat,rcat)\n",
    "tri = np.linalg.inv(tr)"
   ]
  },
  {
   "cell_type": "code",
   "execution_count": null,
   "metadata": {},
   "outputs": [],
   "source": [
    "#  \n",
    "#  Test that transfer matrix \"works\"\n",
    "#\n",
    "print (\"Truth:\",np.sum(gcat,axis=0))\n",
    "print (\"Reco:\",np.sum(rcat,axis=0))\n",
    "rr = np.sum(np.dot(tr,np.transpose(gcat)),axis=1)\n",
    "gg = np.sum(np.dot(tri,np.transpose(rcat)),axis=1)\n",
    "print (\"Reco computed from truth by using transfer matrix:\",rr)\n",
    "print (\"Truth computed from reco using inverse transfer matrix\",gg)"
   ]
  },
  {
   "cell_type": "code",
   "execution_count": null,
   "metadata": {},
   "outputs": [],
   "source": [
    "def plot_rg(g,r,tr,plot2=0,r2=0,plotUnf=0,unfCent=0,unfStd=0,plotUnf2=0,unfCent2=0,unfStd2=0):\n",
    "    ''' Helper function to produce plots of truth, reco and ML unfolded distributions '''\n",
    "    plt.figure(figsize=(14.,5.))\n",
    "    plt.subplot(121)\n",
    "    plt.xlim(-1.,11.)\n",
    "    ge = plt.hist(g.reshape(g.shape[0]),10,(0.,10),label='gen')\n",
    "    re = plt.hist(r.reshape(r.shape[0]),13,(-2.,11.),alpha=0.8,label='rec')\n",
    "    if plot2 != 0:\n",
    "        re2 = plt.hist(r2,13,(-2.,11.),alpha=0.4,label='rec 2')\n",
    "    if plotUnf != 0:\n",
    "        xc = np.arange(0.5,10.5,1)\n",
    "        xe = 0.5*np.ones(10)\n",
    "        plt.errorbar(xc,unfCent,unfStd,xe,'s',color='g',label='unf 0it')\n",
    "        \n",
    "    if plotUnf2 != 0:\n",
    "        plt.errorbar(xc,unfCent2,unfStd2,xe,'o',color='r',label='unf 3it')\n",
    "    plt.xlabel(\"Bin number\")\n",
    "    plt.legend()\n",
    "    plt.subplot(122)\n",
    "    plt.imshow (tr,origin='lower')\n",
    "    plt.xlabel(\"$x_g$\")\n",
    "    plt.ylabel('$x_r$')\n",
    "    plt.colorbar()\n",
    "    plt.savefig(\"third.pdf\")\n",
    "plot_rg(gt,rt,tr,1,rt2) # ,0,it0c,it0s,0,it3c,it3s)\n"
   ]
  }
 ],
 "metadata": {
  "kernelspec": {
   "display_name": "Python 3",
   "language": "python",
   "name": "python3"
  },
  "language_info": {
   "codemirror_mode": {
    "name": "ipython",
    "version": 3
   },
   "file_extension": ".py",
   "mimetype": "text/x-python",
   "name": "python",
   "nbconvert_exporter": "python",
   "pygments_lexer": "ipython3",
   "version": "3.6.1"
  }
 },
 "nbformat": 4,
 "nbformat_minor": 2
}
